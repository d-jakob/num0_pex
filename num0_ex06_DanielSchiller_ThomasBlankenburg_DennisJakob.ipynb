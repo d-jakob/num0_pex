{
 "cells": [
  {
   "cell_type": "markdown",
   "id": "32f95302",
   "metadata": {},
   "source": [
    "| Übungszettel 6 | Einführung in die Numerik |\n",
    "|---|---|\n",
    "| Dozent      | Prof. Kanschat |\n",
    "| Tutoren     | S. Meggendorfer und J. Witte |\n",
    "| Abgabe      | bis 27.05.21 23.15 Uhr |\n",
    "| Studierende | *bitte Vor- und Nachnamen einfügen* |"
   ]
  },
  {
   "cell_type": "markdown",
   "id": "f1f54596",
   "metadata": {},
   "source": [
    "\n",
    "---\n",
    "\n",
    "### Aufgabe 1: kubische Spline-Interpolation\n",
    "\n",
    "Wir betrachten erneut die Runge-Funktion \n",
    "$$ f(x) = \\frac{1}{1+x^2}, \\quad x \\in [-5,5]. $$\n",
    "\n",
    "1. Berechnen Sie die kubische Spline-Interpolation $s \\in S^{(3,2)}_h$ von $f$ zu den äquidistanten Stützstellen $x_0,\\ldots,x_n$ und Funktionswerten $f_0,\\ldots,f_n$ sowie natürliche Randbedingungen $s''(-5) = s''(5) = 0$:\n",
    "\n",
    "    1. Berechnen Sie die Längen der Teilintervalle `hi`, das heißt $h_i = x_i - x_{i-1}$ für $i = 1,\\ldots,n$.\n",
    "    2. Definieren Sie eine Funktion `solve_moments(...)`, die die Momente `Mi`, d.h. $M_i = s''(x_i), i = 0,\\ldots,n$, anhand des linearen Gleichungssystems aus der Vorlesung berechnet. Ein lineares Gleichungssystem lösen sie mit Hilfe von [numpy.linalg.solve](https://numpy.org/doc/stable/reference/generated/numpy.linalg.solve.html) (hier `np.linalg.solve`).   \n",
    "    3. Definieren Sie eine Funktion `s_i(...)`, die die Einschränkung der Spline-Interpolierenden $s$ auf dem Teilintervall $[x_{i-1},x_i]$ an der Stelle $x$ auswertet.\n",
    "    4. Verwenden Sie `s_i(...)` und definieren Sie eine Funktion `spline(...)`, die die Auswertung der Spline-Interpolierenden $s$ an einer beliebigen Stelle $x \\in [-5,5]$ auswertet.\n",
    "    \n",
    "2. Plotten Sie die Runge-Funktion $f$, die Spline-Interpolierende $s$, die Lagrange-Interpolierende $p$ zu den äquidistanten Stützstellen $x_0,\\ldots,x_n$ und die Lagrange-Interpolierende $\\hat p$ zu den Tschebyscheff-Stützstellen $\\hat x_0,\\ldots,\\hat x_n$. Vergleichen Sie auch die Fehlerfunktionen $|f-s|$, $|f-p|$ und $|f-\\hat p|$.\n",
    "\n",
    "3. **Bonus** Berechnen Sie $N = \\dim S^{(3,2)}_h$ (siehe Vorlesung) und wiederholen Sie 2. mit Lagrange-Interpolationen für äquidistante Stützstellen $x_0,\\ldots,x_{N-1}$ sowie Tschebyscheff-Stützstellen $\\hat x_0,\\ldots,\\hat x_{N-1}$.\n",
    "\n",
    "*Die Ellipsis `...` ergänzen Sie durch benötigte Funktionsparameter.*"
   ]
  },
  {
   "cell_type": "code",
   "execution_count": null,
   "id": "f608525f",
   "metadata": {},
   "outputs": [],
   "source": [
    "import numpy as np\n",
    "import matplotlib\n",
    "import matplotlib.pyplot as plt\n",
    "\n",
    "n = 4\n",
    "a = -5.\n",
    "b = 5.\n",
    "\n",
    "def runge_func(x):\n",
    "    return 1. / (1. + x**2)\n",
    "\n",
    "xi = np.linspace(a,b,n+1)\n",
    "fi = runge_func(xi)"
   ]
  },
  {
   "cell_type": "markdown",
   "id": "0bd5dd19",
   "metadata": {},
   "source": [
    "---"
   ]
  },
  {
   "cell_type": "markdown",
   "id": "008507df",
   "metadata": {},
   "source": [
    "Für die Lagrange-Interpolation können Sie folgende Funktionen vorheriger Übungsblätter verwenden."
   ]
  },
  {
   "cell_type": "code",
   "execution_count": null,
   "id": "89847494",
   "metadata": {},
   "outputs": [],
   "source": [
    "def L(k,xi,x):\n",
    "    \"k-tes Lagrange Basispolynom zu den Stützstellen xi\"\n",
    "    Lx = 1.\n",
    "    for j in range(len(xi)):\n",
    "        if j != k:\n",
    "            Lx *= (x-xi[j])/(xi[k]-xi[j])\n",
    "    return Lx\n",
    "\n",
    "def pLagr(xi,fi,x):\n",
    "    \"Lagrange Interpolationspolynom zu den Stützstellen xi mit Stützwerten fi\"\n",
    "    px = 0.\n",
    "    for j in range(len(xi)):\n",
    "        px += fi[j]*L(j,xi,x)\n",
    "    return px"
   ]
  },
  {
   "cell_type": "code",
   "execution_count": null,
   "id": "7906a7fc",
   "metadata": {
    "tags": []
   },
   "outputs": [],
   "source": [
    "def make_cheb_xi(a,b,n):\n",
    "    xi = np.zeros(n)\n",
    "    alpha = (a+b)/2.\n",
    "    beta = (b-a)/2.\n",
    "    for i in range(n):\n",
    "        xi[i] = alpha + beta * np.cos((2.*i+1.)/(2.*n)*np.pi)\n",
    "    return xi"
   ]
  },
  {
   "cell_type": "markdown",
   "id": "08bd2583",
   "metadata": {
    "tags": []
   },
   "source": [
    "---"
   ]
  },
  {
   "cell_type": "code",
   "execution_count": null,
   "id": "895f31c8-853d-4aa8-ba13-13e1735fd045",
   "metadata": {},
   "outputs": [],
   "source": [
    "# def solve_moments(...)\n",
    "    # bitte ergänzen\n",
    "\n",
    "# def s_i(...):\n",
    "    # bitte ergänzen\n",
    "    \n",
    "# def spline(...):\n",
    "    # bitte ergänzen"
   ]
  }
 ],
 "metadata": {
  "kernelspec": {
   "display_name": "Python 3",
   "language": "python",
   "name": "python3"
  },
  "language_info": {
   "codemirror_mode": {
    "name": "ipython",
    "version": 3
   },
   "file_extension": ".py",
   "mimetype": "text/x-python",
   "name": "python",
   "nbconvert_exporter": "python",
   "pygments_lexer": "ipython3",
   "version": "3.6.9"
  }
 },
 "nbformat": 4,
 "nbformat_minor": 5
}
