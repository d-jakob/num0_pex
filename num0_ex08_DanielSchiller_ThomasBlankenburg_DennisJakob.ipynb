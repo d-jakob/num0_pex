{
 "cells": [
  {
   "cell_type": "markdown",
   "metadata": {},
   "source": [
    "| Übungszettel 8 | Einführung in die Numerik |\n",
    "|---|---|\n",
    "| Dozent      | Prof. Kanschat |\n",
    "| Tutoren     | S. Meggendorfer und J. Witte |\n",
    "| Abgabe      | bis 17.06.21 23.15 Uhr |\n",
    "| Studierende | Daniel Schiller, Thomas Blankenburg, Dennis Jakob |"
   ]
  },
  {
   "cell_type": "markdown",
   "metadata": {},
   "source": [
    "\n",
    "---\n",
    "\n",
    "### Aufgabe 1: Summierte Quadratur\n",
    "\n",
    "Schreiben Sie eine Funktion, die die Funktion $f(x) = \\sin(\\pi x)$ über das Intervall $[0,1]$ mit der iterierten Trapezregel integriert. Geben Sie den approximierten Integralwert, sowie den Fehler für verschiedene Schrittweiten $h= 1,\\tfrac12,\\tfrac14,\\tfrac18,...$ aus.\n",
    "\n",
    "### Aufgabe 2: Romberg-Quadratur\n",
    "\n",
    "Wenden Sie die Romberg-Quadratur mit der Schrittfolge $h= 1,\\tfrac12,\\tfrac14,\\tfrac18,...$\n",
    "auf die iterierte Trapezregel aus Aufgabe 1 an und beobachten Sie die Konvergenz gegen den exakten Integralwert $\\frac{2}{\\pi}$ für die verschiedenen Spalten im Tableau des Neville-Algorithmus. Lassen Sie sich auch hierfür wieder den Fehler ausgeben und vergleichen Sie den Aufwand der Romberg-Quadratur mit der iterierten Trapezregel.\n",
    "\n",
    "### Bonus: Konvergenzraten\n",
    "\n",
    "Die Konvergenzrate $p$ eines numerischen Verfahrens, dessen Fehler $e(h)$ eine Abschätzung $e(h)= ch^p + o(h^p)$ erlaubt, kann experimentell bestimmt werden mit der Formel\n",
    "$$p \\approx \\log_2(e(h)) - log_2(e({\\tfrac{h}2})).$$\n",
    "Berechnen Sie mit dieser Formel die Konvergenzraten im Tableau des Neville-Algorithmus aus Aufgabe 2.\n",
    "\n",
    "**Hinweis:** Der Logarithmus zur Basis 2 lässt sich in numpy mit dem Befehl `np.log2()` berechnen."
   ]
  },
  {
   "cell_type": "code",
   "execution_count": 1,
   "metadata": {},
   "outputs": [],
   "source": [
    "import numpy as np"
   ]
  },
  {
   "cell_type": "markdown",
   "metadata": {},
   "source": [
    "---"
   ]
  },
  {
   "cell_type": "markdown",
   "metadata": {},
   "source": [
    "Aufgabe 1:"
   ]
  },
  {
   "cell_type": "code",
   "execution_count": 2,
   "metadata": {},
   "outputs": [],
   "source": [
    "def Q_Trapez(n):\n",
    "    res = 0.\n",
    "    h = 1. / float(n)\n",
    "    w_n = h / 2.\n",
    "    for i in range(int(n)):\n",
    "        res += w_n * np.sin(np.pi * float(i) * h) + w_n * np.sin(np.pi * (float(i) + 1.) * h)\n",
    "    return res"
   ]
  },
  {
   "cell_type": "code",
   "execution_count": 3,
   "metadata": {},
   "outputs": [],
   "source": [
    "Q_richtig = 2. / np.pi"
   ]
  },
  {
   "cell_type": "code",
   "execution_count": 4,
   "metadata": {},
   "outputs": [
    {
     "name": "stdout",
     "output_type": "stream",
     "text": [
      "n =  1.0\n",
      "h =  1.0\n",
      "Q_Trap_n =  6.123233995736766e-17\n",
      "Fehler_n =  0.6366197723675813\n",
      "\n",
      "n =  2.0\n",
      "h =  0.5\n",
      "Q_Trap_n =  0.5\n",
      "Fehler_n =  0.13661977236758138\n",
      "\n",
      "n =  4.0\n",
      "h =  0.25\n",
      "Q_Trap_n =  0.6035533905932737\n",
      "Fehler_n =  0.03306638177430765\n",
      "\n",
      "n =  8.0\n",
      "h =  0.125\n",
      "Q_Trap_n =  0.628417436515731\n",
      "Fehler_n =  0.008202335851850373\n",
      "\n",
      "n =  16.0\n",
      "h =  0.0625\n",
      "Q_Trap_n =  0.6345731492255539\n",
      "Fehler_n =  0.002046623142027526\n",
      "\n"
     ]
    }
   ],
   "source": [
    "for j in range(5):\n",
    "    n = 2.**j\n",
    "    print(\"n = \", n)\n",
    "    h = 1. / n\n",
    "    print(\"h = \", h)\n",
    "    Q_Trap_n = Q_Trapez(n)\n",
    "    print(\"Q_Trap_n = \", Q_Trap_n)\n",
    "    Fehler_n = np.abs(Q_Trap_n - Q_richtig)\n",
    "    print(\"Fehler_n = \", Fehler_n)\n",
    "    print()"
   ]
  },
  {
   "cell_type": "markdown",
   "metadata": {},
   "source": [
    "Aufgabe 2:"
   ]
  },
  {
   "cell_type": "code",
   "execution_count": 5,
   "metadata": {},
   "outputs": [],
   "source": [
    "def h(i):\n",
    "    return 2.**(-i)\n",
    "\n",
    "def Romberg(i, k):\n",
    "    if k == 0:\n",
    "        return Q_Trapez(int(2.**(float(i))))\n",
    "    else:\n",
    "        return Romberg(i, k - 1) + (h(i)**2 / (h(i - k)**2 - h(i)**2)) * (Romberg(i, k - 1) - Romberg(i-1, k-1))    "
   ]
  },
  {
   "cell_type": "code",
   "execution_count": 6,
   "metadata": {},
   "outputs": [
    {
     "name": "stdout",
     "output_type": "stream",
     "text": [
      "       Q_i0  Q_i1                Q_i2                Q_i3                Q_i4\n",
      "-----------  ------------------  ------------------  ------------------  ------------------\n",
      "6.12323e-17\n",
      "0.5          0.6666666666666666\n",
      "0.603553     0.6380711874576983  0.6361648221771005\n",
      "0.628417     0.6367054518232168  0.6366144027809181  0.6366215389809786\n",
      "0.634573     0.6366250534621615  0.6366196935714244  0.6366197775522261  0.6366197706446624\n",
      "\n",
      "  Fehler_i0  Fehler_i1               Fehler_i2               Fehler_i3                Fehler_i4\n",
      "-----------  ----------------------  ----------------------  -----------------------  ----------------------\n",
      " 0.63662\n",
      " 0.13662     -0.030046894299085247\n",
      " 0.0330664   -0.0014514150901169254  0.00045495019048091834\n",
      " 0.00820234  -8.567945563542345e-05  5.369586663306336e-06   -1.7666133972360498e-06\n",
      " 0.00204662  -5.281094580089629e-06  7.879615693262565e-08   -5.184644713551734e-09   1.7229190296674801e-09\n",
      "\n",
      "  konvergenzrate\n",
      "----------------\n",
      "\n",
      "         4.40514\n",
      "         6.04536\n",
      "         8.00858\n",
      "        10.0019\n"
     ]
    }
   ],
   "source": [
    "from tabulate import tabulate\n",
    "\n",
    "tab_Romberg = []\n",
    "tab_Fehler = []\n",
    "tab_konvergenzrate = [\"\"]\n",
    "for i in range(5):\n",
    "    row = []\n",
    "    row_Fehler = []\n",
    "    for j in range(5):\n",
    "        if i >= j:\n",
    "            row.append(Romberg(i, j))\n",
    "            row_Fehler.append(2. / np.pi - Romberg(i, j))\n",
    "        else:\n",
    "            row.append(\"\")\n",
    "            row_Fehler.append(\"\")\n",
    "    if i: tab_konvergenzrate.append([np.log2(np.abs(float(tab_Fehler[-1][i - 1]))) - np.log2(np.abs(float(row_Fehler[i])))])\n",
    "    tab_Romberg.append(row)\n",
    "    tab_Fehler.append(row_Fehler)\n",
    "\n",
    "print(tabulate(tab_Romberg, headers = [\"Q_i0\", \"Q_i1\", \"Q_i2\", \"Q_i3\", \"Q_i4\"]))\n",
    "print()\n",
    "print(tabulate(tab_Fehler, headers = [\"Fehler_i0\", \"Fehler_i1\", \"Fehler_i2\", \"Fehler_i3\", \"Fehler_i4\"]))\n",
    "print()\n",
    "print(tabulate(tab_konvergenzrate, headers = [\"konvergenzrate\"]))"
   ]
  },
  {
   "cell_type": "markdown",
   "metadata": {},
   "source": [
    "Für die Spalten weiter rechts konvergiert der Fehler schneller gegen 0.\n",
    "Die Konvergenzrate des rechten wertes beschleunigt mit jeder zeile."
   ]
  },
  {
   "cell_type": "markdown",
   "metadata": {},
   "source": [
    "Bei der Romberg-Quadratur müssen die vorherigen Quadraturen mit größerer Schrittweitere der iterieteren Trapezquadratur ausgeführt werden. Darum sollte der Aufwand der Romberg-Quadratur quadratisch steigen während der Aufwand der iterierten Trapezquadratur linear ist."
   ]
  }
 ],
 "metadata": {
  "kernelspec": {
   "display_name": "Python 3",
   "language": "python",
   "name": "python3"
  },
  "language_info": {
   "codemirror_mode": {
    "name": "ipython",
    "version": 3
   },
   "file_extension": ".py",
   "mimetype": "text/x-python",
   "name": "python",
   "nbconvert_exporter": "python",
   "pygments_lexer": "ipython3",
   "version": "3.8.3"
  }
 },
 "nbformat": 4,
 "nbformat_minor": 4
}
