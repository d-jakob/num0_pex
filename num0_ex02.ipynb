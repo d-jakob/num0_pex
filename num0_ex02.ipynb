{
 "cells": [
  {
   "cell_type": "markdown",
   "metadata": {},
   "source": [
    "| Übungszettel 2 | Einführung in die Numerik |\n",
    "|---|---|\n",
    "| Dozent      | Prof. Kanschat |\n",
    "| Tutoren     | S. Meggendorfer und J. Witte |\n",
    "| Abgabe      | bis 29.04.21 23.15 Uhr |\n",
    "| Studierende | Daniel Schiller, Thomas Blankenburg, Dennis Jakob |"
   ]
  },
  {
   "cell_type": "markdown",
   "metadata": {},
   "source": [
    "\n",
    "---\n",
    "\n",
    "### Aufgabe 1: Skalarprodukt\n",
    "\n",
    "Definieren Sie eine Funktion `l2prod(coeff_p, coeff_q)`, die das $L^2([-1,1])$-Skalarprodukt\n",
    "$$\\int_{-1}^1 p(x) q(x) \\,dx$$\n",
    "berechnet, wobei die Polynome $p$ und $q$ als Potenzreihe (aufsteigend) durch die Koeffizienten `coeff_p` und `coeff_q` bestimmt sind. Das heißt, bestehe der Vektor `coeff_p` aus den Skalaren $\\alpha_0,\\ldots,\\alpha_n$, so ist das Polynom $p$ bestimmt durch\n",
    "$$ p(x)=\\sum_{k=0}^n \\alpha_k x^k .$$\n",
    "\n",
    "**Verwenden Sie** entweder die importierte Potenzreihenklasse `PowSer` aus numpy, um das $L^2$-Skalarprodukt zu berechnen. **Oder** überlegen Sie sich, wie das $L^2$-Skalarprodukt endlicher Potenzreihen explizit berechnet wird."
   ]
  },
  {
   "cell_type": "markdown",
   "metadata": {},
   "source": [
    "\n",
    "---\n",
    "\n",
    "Eine kurze Einführung zu den Polynomklassen in `numpy.polynomial` (insbesondere `PowSer`) finden sie [hier](https://numpy.org/doc/stable/reference/routines.polynomials.classes.html)."
   ]
  },
  {
   "cell_type": "code",
   "execution_count": 1,
   "metadata": {},
   "outputs": [],
   "source": [
    "import numpy as np\n",
    "from numpy.polynomial import Polynomial as PowSer\n",
    "import matplotlib.pyplot as plt"
   ]
  },
  {
   "cell_type": "markdown",
   "metadata": {},
   "source": [
    "Anbei finden Sie eine Funktion `polyplot(coeffs)`, die eine Liste von Koeffizientenvektoren `coeffs` entgegen nimmt und entsprechende Polynome plottet."
   ]
  },
  {
   "cell_type": "code",
   "execution_count": 2,
   "metadata": {
    "tags": []
   },
   "outputs": [],
   "source": [
    "def polyplot(coeffs):\n",
    "    n = 1\n",
    "    for coeff_p in coeffs:\n",
    "        p = PowSer(coeff_p)\n",
    "        x, y = p.linspace(100)\n",
    "        plt.plot(x, y, lw=2, label=\"$p_{%d}$\"%n)\n",
    "        n += 1\n",
    "    plt.legend(loc=\"upper left\")\n",
    "    plt.show()"
   ]
  },
  {
   "cell_type": "markdown",
   "metadata": {},
   "source": [
    "Als Beispiel plotten wir alle Monome bis zum Grad 3:"
   ]
  },
  {
   "cell_type": "code",
   "execution_count": 3,
   "metadata": {
    "tags": []
   },
   "outputs": [
    {
     "data": {
      "image/png": "[encoded data removed]",
      "text/plain": [
       "<Figure size 432x288 with 1 Axes>"
      ]
     },
     "metadata": {
      "needs_background": "light"
     },
     "output_type": "display_data"
    }
   ],
   "source": [
    "monomials = ([[1.],[0.,1.],[0.,0.,1.],[0.,0.,0.,1.]])\n",
    "polyplot(monomials)"
   ]
  },
  {
   "cell_type": "markdown",
   "metadata": {},
   "source": [
    "Dementsprechend ist $p_{k+1}(x) = x^k$.\n",
    "\n",
    "---"
   ]
  },
  {
   "cell_type": "code",
   "execution_count": 4,
   "metadata": {},
   "outputs": [],
   "source": [
    "def l2prod(coeff_p, coeff_q):\n",
    "    p = (PowSer(coeff_p) * PowSer(coeff_q)).integ()\n",
    "    return p(1) - p(-1)"
   ]
  },
  {
   "cell_type": "markdown",
   "metadata": {},
   "source": [
    "\n",
    "---\n",
    "\n",
    "### Aufgabe 2: Gram-Schmidt\n",
    "\n",
    "Schreiben Sie den aus der Vorlesung bekannten Gram-Schmidt Algorithmus als Funktion `gram_schmidt(Coeffs)`. Dabei sei `Coeffs` eine Matrix, sodass jede Spalte ein Polynom in Potenzreihenform bestimmt: bestehe `Coeffs` aus den Elementen $\\alpha_{ij}$, so sind durch\n",
    "$$ p_j(x) = \\sum_{i=0}^{m-1} \\alpha_{ij} x^i, \\qquad j = 0,\\ldots,n-1, $$\n",
    "$n$ Polynome mit maximalem Grad $(m-1)$ bestimmt. Für den Algorithmus verwenden Sie `l2prod()` aus Aufgabe 1.\n",
    "\n",
    "- **Überprüfen** Sie den maximalen Orthogonalisierungs-Fehler nach Anwenden des Gram-Schmidt Algorithmus auf die Monombasis $x^0,\\ldots,x^{n-1}$ für $n=5,10$ und $20$.\n",
    "\n",
    "- **Lohnt sich** eine Re-Orthogonalisierung? Falls ja, wie oft?\n",
    "\n",
    "- *Bonus:* Überprüfen Sie auch das Verhalten für den modifizierten Gram-Schmidt Algorithmus aus der Vorlesung. Vergleichen Sie Ihre (re-)orthogonalisierten Basen mit der entsprechenden Legendre-Polynombasis bis zum Grad $(n-1)$.\n",
    "\n",
    "---\n"
   ]
  },
  {
   "cell_type": "code",
   "execution_count": 5,
   "metadata": {},
   "outputs": [],
   "source": [
    "def gram_schmidt(Coeffs):\n",
    "    n, m = Coeffs.shape\n",
    "    for j in range(n):\n",
    "        delta = np.zeros(m)\n",
    "        for i in range(j-1):\n",
    "            r = l2prod(Coeffs[:, j], Coeffs[:, i])\n",
    "            delta += r*Coeffs[:, i]\n",
    "        Coeffs[:, j] -= delta\n",
    "        norm = np.sqrt(l2prod(Coeffs[:, j], Coeffs[:, j]))\n",
    "        Coeffs[:, j] /= norm\n",
    "\n",
    "def modified_gram_schmidt(Coeffs):\n",
    "    n, m = Coeffs.shape\n",
    "    for j in range(m):\n",
    "        for i in range(j-1):\n",
    "            r = l2prod(Coeffs[:, j], Coeffs[:, i])\n",
    "            Coeffs[:, j] -= r*Coeffs[:, i]\n",
    "        norm = np.sqrt(l2prod(Coeffs[:, j], Coeffs[:, j]))\n",
    "        Coeffs[:, j] /= norm"
   ]
  },
  {
   "cell_type": "code",
   "execution_count": 6,
   "metadata": {},
   "outputs": [
    {
     "name": "stdout",
     "output_type": "stream",
     "text": [
      "  gs: n =  5, maxg = 1.110e-15\n",
      "  gs: n = 10, maxg = 2.611e-12\n",
      "  gs: n = 20, maxg = 1.017e-01\n",
      "\n",
      " dgs: n =  5, maxg = 1.998e-15\n",
      " dgs: n = 10, maxg = 6.064e-12\n",
      " dgs: n = 20, maxg = 1.282e-04\n",
      "\n",
      " tgs: n =  5, maxg = 2.220e-16\n",
      " tgs: n = 10, maxg = 2.132e-13\n",
      " tgs: n = 20, maxg = 4.732e-05\n",
      "\n",
      " mgs: n =  5, maxg = 4.441e-16\n",
      " mgs: n = 10, maxg = 2.345e-12\n",
      " mgs: n = 20, maxg = 1.909e-04\n",
      "\n",
      "dmgs: n =  5, maxg = 8.882e-16\n",
      "dmgs: n = 10, maxg = 2.345e-12\n",
      "dmgs: n = 20, maxg = 1.295e-05\n"
     ]
    }
   ],
   "source": [
    "for n in [5,10,20]:\n",
    "    v = np.identity(n)\n",
    "    gram_schmidt(v)\n",
    "    g = np.zeros((n, n))\n",
    "    for i in range(n):\n",
    "        for j in range(n):\n",
    "            g[i, j] = l2prod(v[:,i], v[:,j]) if i != j else 0\n",
    "    print(f\"  gs: n = {n:2d}, maxg = {abs(max(np.min(g), np.max(g), key=abs)):.3e}\")\n",
    "\n",
    "print()\n",
    "\n",
    "for n in [5,10,20]:\n",
    "    v = np.identity(n)\n",
    "    gram_schmidt(v)\n",
    "    gram_schmidt(v)\n",
    "    g = np.zeros((n, n))\n",
    "    for i in range(n):\n",
    "        for j in range(n):\n",
    "            g[i, j] = l2prod(v[:,i], v[:,j]) if i != j else 0\n",
    "    print(f\" dgs: n = {n:2d}, maxg = {abs(max(np.min(g), np.max(g), key=abs)):.3e}\")\n",
    "\n",
    "print()\n",
    "\n",
    "for n in [5,10,20]:\n",
    "    v = np.identity(n)\n",
    "    gram_schmidt(v)\n",
    "    gram_schmidt(v)\n",
    "    gram_schmidt(v)\n",
    "    g = np.zeros((n, n))\n",
    "    for i in range(n):\n",
    "        for j in range(n):\n",
    "            g[i, j] = l2prod(v[:,i], v[:,j]) if i != j else 0\n",
    "    print(f\" tgs: n = {n:2d}, maxg = {abs(max(np.min(g), np.max(g), key=abs)):.3e}\")\n",
    "\n",
    "print()\n",
    "\n",
    "for n in [5,10,20]:\n",
    "    v = np.identity(n)\n",
    "    modified_gram_schmidt(v)\n",
    "    g = np.zeros((n, n))\n",
    "    for i in range(n):\n",
    "        for j in range(n):\n",
    "            g[i, j] = l2prod(v[:,i], v[:,j]) if i != j else 0\n",
    "    print(f\" mgs: n = {n:2d}, maxg = {abs(max(np.min(g), np.max(g), key=abs)):.3e}\")\n",
    "\n",
    "print()\n",
    "\n",
    "for n in [5,10,20]:\n",
    "    v = np.identity(n)\n",
    "    modified_gram_schmidt(v)\n",
    "    modified_gram_schmidt(v)\n",
    "    g = np.zeros((n, n))\n",
    "    for i in range(n):\n",
    "        for j in range(n):\n",
    "            g[i, j] = l2prod(v[:,i], v[:,j]) if i != j else 0\n",
    "    print(f\"dmgs: n = {n:2d}, maxg = {abs(max(np.min(g), np.max(g), key=abs)):.3e}\")"
   ]
  },
  {
   "cell_type": "markdown",
   "metadata": {},
   "source": [
    "Damit lohnt sich eine Re-Orthogonalisierung erst bei hohem n ($n \\approx 20$). Dabei macht eine weitere Re-Orthogonalisierung den höchsten Unterschied, somit reichen insgesamt 2 Re-Orthogonalisierungen aus."
   ]
  }
 ],
 "metadata": {
  "kernelspec": {
   "display_name": "Python 3",
   "language": "python",
   "name": "python3"
  },
  "language_info": {
   "codemirror_mode": {
    "name": "ipython",
    "version": 3
   },
   "file_extension": ".py",
   "mimetype": "text/x-python",
   "name": "python",
   "nbconvert_exporter": "python",
   "pygments_lexer": "ipython3",
   "version": "3.8.3"
  }
 },
 "nbformat": 4,
 "nbformat_minor": 4
}
