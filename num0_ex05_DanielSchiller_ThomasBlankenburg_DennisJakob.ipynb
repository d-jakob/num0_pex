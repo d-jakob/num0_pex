{
 "cells": [
  {
   "cell_type": "markdown",
   "id": "4d9598b8",
   "metadata": {},
   "source": [
    "| Übungszettel 5 | Einführung in die Numerik |\n",
    "|---|---|\n",
    "| Dozent      | Prof. Kanschat |\n",
    "| Tutoren     | S. Meggendorfer und J. Witte |\n",
    "| Abgabe      | bis 20.05.21 23.15 Uhr |\n",
    "| Studierende | *bitte Vor- und Nachnamen einfügen* |"
   ]
  },
  {
   "cell_type": "markdown",
   "id": "e934ec6c-015a-44ac-aa93-577af4407088",
   "metadata": {},
   "source": [
    "\n",
    "---\n",
    "\n",
    "### Aufgabe 1: Runges Phänomen\n",
    "\n",
    "Wir betrachten die Runge-Funktion \n",
    "$$ f(x) = \\frac{1}{1+x^2}, \\quad x \\in [-5,5]. $$\n",
    "\n",
    "1. Definieren Sie $f(x)$ als `runge_func(x)`.\n",
    "\n",
    "1. Erstellen Sie äquidistante Stützstellen `xi`, d.h. $x_0,\\ldots,x_n$ mit $n = 4$, für den Definitionsbereich $[-5,5]$.\n",
    "\n",
    "1. Berechnen Sie die Auswertungen `fi`, d.h. $f(x_0),\\ldots,f(x_n)$, und lösen Sie die Interpolationsaufgabe zu den äquidistanten Stützstellen `xi`: nutzen Sie entweder `pLagr(xi,fi,x)` oder `pNewt(xi,ai,x)` vom letzen Übungsblatt. Plotten Sie die Runge-Funktion und das Interpolationspolynom. Verbessert sich die Interpolationsgüte, wenn Sie die Anzahl äquidistanter Stützstellen $n$ erhöhen?\n",
    "\n",
    "1. Aus der Vorlesung kennen Sie eine Formel zur Berechnung optimaler Stützstellen anhand der Tschebyscheff-Polynome: definieren Sie dazu die Funktion `make_cheb_xi(a,b,n)` und berechnen Sie für die Intervallgrenzen `a = -5.` und `b = 5.` diese Stützstellen $\\hat{x}_0,\\ldots,\\hat{x}_n$.\n",
    "\n",
    "1. Wiederholen Sie 3. mit optimalen Stützstellen $\\hat{x}_0,\\ldots,\\hat{x}_n$. Beachten Sie, `fi` anzupassen, d.h. $f(\\hat{x}_0),\\ldots,f(\\hat{x}_n)$ neu zu berechnen.\n",
    "\n",
    "1. Vergleichen Sie das Verhalten beider Interpolationspolynome für $n$ steigend."
   ]
  },
  {
   "cell_type": "code",
   "execution_count": null,
   "id": "f5bb5071",
   "metadata": {},
   "outputs": [],
   "source": [
    "import numpy as np\n",
    "import matplotlib.pyplot as plt\n",
    "\n",
    "n = 4\n",
    "a = -5.\n",
    "b = 5."
   ]
  },
  {
   "cell_type": "markdown",
   "id": "1d556e6b-32e9-4dcf-b280-22c7164c5809",
   "metadata": {},
   "source": [
    "---"
   ]
  },
  {
   "cell_type": "code",
   "execution_count": null,
   "id": "ef72798e-9812-4557-ab0e-18070781c75f",
   "metadata": {},
   "outputs": [],
   "source": [
    "def runge_func(x):\n",
    "    # bitte ergänzen\n",
    "\n",
    "def make_cheb_xi(a,b,n):\n",
    "    # bitte ergänzen"
   ]
  }
 ],
 "metadata": {
  "kernelspec": {
   "display_name": "Python 3",
   "language": "python",
   "name": "python3"
  },
  "language_info": {
   "codemirror_mode": {
    "name": "ipython",
    "version": 3
   },
   "file_extension": ".py",
   "mimetype": "text/x-python",
   "name": "python",
   "nbconvert_exporter": "python",
   "pygments_lexer": "ipython3",
   "version": "3.6.9"
  }
 },
 "nbformat": 4,
 "nbformat_minor": 5
}
