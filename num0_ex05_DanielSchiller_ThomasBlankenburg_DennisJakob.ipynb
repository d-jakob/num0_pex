{
 "cells": [
  {
   "cell_type": "markdown",
   "metadata": {},
   "source": [
    "| Übungszettel 5 | Einführung in die Numerik |\n",
    "|---|---|\n",
    "| Dozent      | Prof. Kanschat |\n",
    "| Tutoren     | S. Meggendorfer und J. Witte |\n",
    "| Abgabe      | bis 20.05.21 23.15 Uhr |\n",
    "| Studierende | Daniel Schiller, Thomas Blankenburg, Dennis Jakob |"
   ]
  },
  {
   "cell_type": "markdown",
   "metadata": {},
   "source": [
    "\n",
    "---\n",
    "\n",
    "### Aufgabe 1: Runges Phänomen\n",
    "\n",
    "Wir betrachten die Runge-Funktion \n",
    "$$ f(x) = \\frac{1}{1+x^2}, \\quad x \\in [-5,5]. $$\n",
    "\n",
    "1. Definieren Sie $f(x)$ als `runge_func(x)`.\n",
    "\n",
    "1. Erstellen Sie äquidistante Stützstellen `xi`, d.h. $x_0,\\ldots,x_n$ mit $n = 4$, für den Definitionsbereich $[-5,5]$.\n",
    "\n",
    "1. Berechnen Sie die Auswertungen `fi`, d.h. $f(x_0),\\ldots,f(x_n)$, und lösen Sie die Interpolationsaufgabe zu den äquidistanten Stützstellen `xi`: nutzen Sie entweder `pLagr(xi,fi,x)` oder `pNewt(xi,ai,x)` vom letzen Übungsblatt. Plotten Sie die Runge-Funktion und das Interpolationspolynom. Verbessert sich die Interpolationsgüte, wenn Sie die Anzahl äquidistanter Stützstellen $n$ erhöhen?\n",
    "\n",
    "1. Aus der Vorlesung kennen Sie eine Formel zur Berechnung optimaler Stützstellen anhand der Tschebyscheff-Polynome: definieren Sie dazu die Funktion `make_cheb_xi(a,b,n)` und berechnen Sie für die Intervallgrenzen `a = -5.` und `b = 5.` diese Stützstellen $\\hat{x}_0,\\ldots,\\hat{x}_n$.\n",
    "\n",
    "1. Wiederholen Sie 3. mit optimalen Stützstellen $\\hat{x}_0,\\ldots,\\hat{x}_n$. Beachten Sie, `fi` anzupassen, d.h. $f(\\hat{x}_0),\\ldots,f(\\hat{x}_n)$ neu zu berechnen.\n",
    "\n",
    "1. Vergleichen Sie das Verhalten beider Interpolationspolynome für $n$ steigend."
   ]
  },
  {
   "cell_type": "code",
   "execution_count": 1,
   "metadata": {},
   "outputs": [],
   "source": [
    "import numpy as np\n",
    "import matplotlib.pyplot as plt\n",
    "\n",
    "n = 4\n",
    "a = -5.\n",
    "b = 5."
   ]
  },
  {
   "cell_type": "markdown",
   "metadata": {},
   "source": [
    "---"
   ]
  },
  {
   "cell_type": "code",
   "execution_count": 2,
   "metadata": {},
   "outputs": [],
   "source": [
    "def runge_func(x):\n",
    "    return 1. / (1. + x**2)\n",
    "\n",
    "def make_cheb_xi(a,b,n):\n",
    "    xi = np.zeros(n + 1)\n",
    "    for i in range(n + 1):\n",
    "        xi[i] = (a + b) / 2. + ((b - a) / 2.) * np.cos((2. * float(i) + 1.) * np.pi / (2 * float(n) + 2.))\n",
    "    return xi"
   ]
  },
  {
   "cell_type": "code",
   "execution_count": 3,
   "metadata": {},
   "outputs": [],
   "source": [
    "def L(k,xi,x):\n",
    "    res = 1.\n",
    "    for i in range(xi.size):\n",
    "        if i != k:\n",
    "            res *= (x - xi[i]) / (xi[k] - xi[i])\n",
    "    return res\n",
    "    \n",
    "\n",
    "def pLagr(xi,fi,x):\n",
    "    res = 0.\n",
    "    for i in range(xi.size):\n",
    "        res += fi[i] * L(i, xi, x)\n",
    "    return res"
   ]
  },
  {
   "cell_type": "code",
   "execution_count": 4,
   "metadata": {},
   "outputs": [],
   "source": [
    "def xifi(n):\n",
    "    xi = np.linspace(a, b, n + 1)\n",
    "    return (xi, runge_func(xi))\n",
    "def xifiT(n):\n",
    "    xi = make_cheb_xi(a, b, n)\n",
    "    return (xi, runge_func(xi))"
   ]
  },
  {
   "cell_type": "code",
   "execution_count": 5,
   "metadata": {},
   "outputs": [
    {
     "data": {
      "image/png": "[encoded data removed]",
      "text/plain": [
       "<Figure size 432x288 with 1 Axes>"
      ]
     },
     "metadata": {
      "needs_background": "light"
     },
     "output_type": "display_data"
    }
   ],
   "source": [
    "x_lin = np.linspace(a, b, 300)\n",
    "\n",
    "plt.figure()\n",
    "\n",
    "plt.plot(x_lin, runge_func(x_lin), label = \"Runge Funktion\")\n",
    "\n",
    "n = 4\n",
    "(x4, f4) = xifi(n)\n",
    "plt.plot(x_lin, pLagr(x4, f4, x_lin), label = \"n = 4, äqui\")\n",
    "(x4T, f4T) = xifiT(n)\n",
    "plt.plot(x_lin, pLagr(x4T, f4T, x_lin), label = \"n = 4, Tscheb\")\n",
    "\n",
    "n = 10\n",
    "(x10, f10) = xifi(n)\n",
    "plt.plot(x_lin, pLagr(x10, f10, x_lin), label = \"n = 10, äqui\")\n",
    "(x10T, f10T) = xifiT(n)\n",
    "plt.plot(x_lin, pLagr(x10T, f10T, x_lin), label = \"n = 10, Tscheb\")\n",
    "\n",
    "n = 20\n",
    "(x20, f20) = xifi(n)\n",
    "plt.plot(x_lin, pLagr(x20, f20, x_lin), label = \"n = 20, äqui\")\n",
    "(x20T, f20T) = xifiT(n)\n",
    "plt.plot(x_lin, pLagr(x20T, f20T, x_lin), label = \"n = 20, Tscheb\")\n",
    "\n",
    "plt.legend(loc = 'best')\n",
    "plt.tight_layout()"
   ]
  },
  {
   "cell_type": "markdown",
   "metadata": {},
   "source": [
    "Mit den äquidistnaten Stützstellen wird es nur schlechter mit größem n. Anders verhält es sich mit den Stützstellen aus den Tschebyshev-Polynomen. Dabei wird es nur besser (am besten kommentiert man plt.plot(..., n = 2, äqui) aus)."
   ]
  }
 ],
 "metadata": {
  "kernelspec": {
   "display_name": "Python 3",
   "language": "python",
   "name": "python3"
  },
  "language_info": {
   "codemirror_mode": {
    "name": "ipython",
    "version": 3
   },
   "file_extension": ".py",
   "mimetype": "text/x-python",
   "name": "python",
   "nbconvert_exporter": "python",
   "pygments_lexer": "ipython3",
   "version": "3.8.3"
  }
 },
 "nbformat": 4,
 "nbformat_minor": 5
}
