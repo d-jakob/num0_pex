{
 "cells": [
  {
   "cell_type": "markdown",
   "metadata": {},
   "source": [
    "| Übungszettel 10 | Einführung in die Numerik |\n",
    "|---|---|\n",
    "| Dozent      | Prof. Kanschat |\n",
    "| Tutoren     | S. Meggendorfer und J. Witte |\n",
    "| Abgabe      | bis 01.07.21 23.15 Uhr |\n",
    "| Studierende | Daniel Schiller, Thomas Blankenburg, Dennis Jakob |"
   ]
  },
  {
   "cell_type": "markdown",
   "metadata": {},
   "source": [
    "---\n",
    "\n",
    "### Aufgabe 1: Schrittweitensteuerung\n",
    "\n",
    "- Implementieren Sie das Newton-Verfahren mit Schrittweitensteuerung (wie Sie es in der Vorlesung kennengelernt haben) für eindimensionale Funktionen $f:\\mathbb{R}\\to\\mathbb{R}$. Nutzen Sie als Abbruch-Kriterium, wenn der Betrag des Residuums $\\left|f(x_n)\\right|$ kleiner als die vorgegebene Toleranz `TOL=1.e-8` wird. Lassen Sie sich in jedem Schritt das Residuum $|f(x_n)|$, sowie die Differenz $|x_n-x_{n-1}|$ ausgeben.\n",
    "\n",
    "- Wenden Sie das Newton-Verfahren mit Schrittweitensteuerung auf die Funktion $f(x) = \\arctan(x)$ an. Wählen Sie hierzu nacheinander die Startwerte $x_0=1$, $x_0=2$, sowie $x_0=1.391745200270735$. Was beobachten Sie im Vergleich zum klassischen Newton-Verfahren?"
   ]
  },
  {
   "cell_type": "code",
   "execution_count": null,
   "metadata": {},
   "outputs": [],
   "source": [
    "import numpy as np\n",
    "\n",
    "# Bitte ergänzen"
   ]
  }
 ],
 "metadata": {
  "kernelspec": {
   "display_name": "Python 3",
   "language": "python",
   "name": "python3"
  },
  "language_info": {
   "codemirror_mode": {
    "name": "ipython",
    "version": 3
   },
   "file_extension": ".py",
   "mimetype": "text/x-python",
   "name": "python",
   "nbconvert_exporter": "python",
   "pygments_lexer": "ipython3",
   "version": "3.8.3"
  }
 },
 "nbformat": 4,
 "nbformat_minor": 5
}
