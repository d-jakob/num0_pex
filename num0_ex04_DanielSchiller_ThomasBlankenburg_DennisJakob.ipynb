{
 "cells": [
  {
   "cell_type": "markdown",
   "metadata": {},
   "source": [
    "| Übungszettel 4 | Einführung in die Numerik |\n",
    "|---|---|\n",
    "| Dozent      | Prof. Kanschat |\n",
    "| Tutoren     | S. Meggendorfer und J. Witte |\n",
    "| Abgabe      | bis 13.05.21 23.15 Uhr |\n",
    "| Studierende | Daniel Schiller, Thomas Blankenburg, Dennis Jakob |"
   ]
  },
  {
   "cell_type": "markdown",
   "metadata": {},
   "source": [
    "\n",
    "---\n",
    "\n",
    "### Aufgabe 1: Lagrange Interpolation\n",
    "\n",
    "Seien Stützstellen `xi`, d.h. $x_0,\\ldots,x_n$, gegeben.\n",
    "\n",
    "1. Definieren Sie Funktionen `L(k, xi, x)` und `N(k, xi, x)`, die jeweils das $k$-te Lagrange-Basispolynom\n",
    "\n",
    "$$L_k(x) = \\prod_{j=0;j \\neq k}^{n} \\frac{x-x_j}{x_k-x_j}$$\n",
    "\n",
    "bzw. $k$-te Newton-Basispolynom\n",
    "\n",
    "$$N_k(x) = \\prod_{j=0}^{k-1} (x-x_j)$$\n",
    "\n",
    "an der Stelle `x` auswerten.\n",
    "\n",
    "2. Lösen Sie die Interpolationsaufgabe zu diesen Stützstellen zur Funktion $f(x)=\\tan(x)$ mit Funktionswerten `fi`, d.h. $f(x_0),\\ldots,f(x_n)$,\n",
    "    * indem Sie eine Auswertungsfunktion `pLagr(xi,fi,x)` bzgl. der Lagrange-Basis definieren.\n",
    "\n",
    "    * indem Sie eine Auswertungsfunktion `pNewt(xi,ai,x)` bzgl. der Newton-Basis definieren. Berechnen Sie dazu rekursiv die Koeffizienten `ai`, d.h. $[x_0]f,[x_0,x_1]f,\\ldots,[x_0,\\ldots,x_n]f$, als dividierte Differenzen.\n",
    "\n",
    "3. Plotten Sie die Lösungspolynome der beiden Interpolationsmöglichkeiten und vergleichen Sie mit dem Tangens. Diskutieren Sie Vor- und Nachteile der Lagrange-Basis bzw. der Newton-Basis.\n",
    "\n",
    "4. **Bonus:** Verwenden Sie das Horner-Schema für `pNewt(xi,ai,x)`."
   ]
  },
  {
   "cell_type": "code",
   "execution_count": 1,
   "metadata": {},
   "outputs": [],
   "source": [
    "import numpy as np\n",
    "import matplotlib.pyplot as plt\n",
    "from functools import lru_cache\n",
    "\n",
    "n = 10\n",
    "\n",
    "xi = np.linspace(-1.5,1.5,n)\n",
    "fi = np.tan(xi)"
   ]
  },
  {
   "cell_type": "markdown",
   "metadata": {},
   "source": [
    "---"
   ]
  },
  {
   "cell_type": "code",
   "execution_count": 2,
   "metadata": {},
   "outputs": [],
   "source": [
    "def L(k,xi,x):\n",
    "    res = 1.\n",
    "    for i in range(xi.size):\n",
    "        if i != k:\n",
    "            res *= (x - xi[i]) / (xi[k] - xi[i])\n",
    "    return res\n",
    "    \n",
    "\n",
    "def pLagr(xi,fi,x):\n",
    "    res = 0.\n",
    "    for i in range(xi.size):\n",
    "        res += fi[i] * L(i, xi, x)\n",
    "    return res"
   ]
  },
  {
   "cell_type": "code",
   "execution_count": 3,
   "metadata": {},
   "outputs": [],
   "source": [
    "def N(k,xi,x):\n",
    "    res = 1.\n",
    "    for i in range(k):\n",
    "        res *= x - xi[i]\n",
    "    return res\n",
    "\n",
    "# without horner\n",
    "def pNewt(xi,ai,x):\n",
    "    res = 0.\n",
    "    for i in range(xi.size):\n",
    "        res += ai[i] * N(i, xi, x)\n",
    "    return res\n",
    "\n",
    "# with horner\n",
    "def pNewtWithHorner(xi,ai,x):\n",
    "    res = ai[-1]\n",
    "    for i in range(xi.size - 2, -1, -1):\n",
    "        res = res * (x - xi[i]) + ai[i]\n",
    "    return res\n",
    "\n",
    "#without caching\n",
    "#def divDiff(xi, fi):\n",
    "#    if xi.size == 1:\n",
    "#        return fi[0]\n",
    "#    else:\n",
    "#        return (divDiff(xi[1: xi.size], fi[1: fi.size]) - divDiff(xi[0: xi.size - 1], fi[0: fi.size - 1])) / (xi[xi.size - 1] - xi[0])\n",
    "\n",
    "def divDiff(xi, fi):\n",
    "    @lru_cache(maxsize=None)\n",
    "    def dd(s, e):\n",
    "        if s == e:\n",
    "            return fi[s]\n",
    "        else:\n",
    "            return (dd(s + 1, e) - dd(s, e - 1)) / (xi[e] - xi[s])\n",
    "    return dd(0, xi.size - 1)\n",
    "\n",
    "def aiKoeff(xi, fi):\n",
    "    ai = np.zeros(xi.size)\n",
    "    for i in range(xi.size):\n",
    "        ai[i] = divDiff(xi[0: i + 1], fi[0: i + 1])\n",
    "    return ai"
   ]
  },
  {
   "cell_type": "code",
   "execution_count": 9,
   "metadata": {},
   "outputs": [
    {
     "data": {
      "image/png": "[encoded data removed]",
      "text/plain": [
       "<Figure size 432x288 with 1 Axes>"
      ]
     },
     "metadata": {
      "needs_background": "light"
     },
     "output_type": "display_data"
    }
   ],
   "source": [
    "%matplotlib inline\n",
    "# Plotten\n",
    "plt.figure()\n",
    "x = np.linspace(-1.5, 1.5, 100)\n",
    "\n",
    "plt.scatter(xi, fi, label = 'Stützstellen')\n",
    "plt.plot(x, np.tan(x), label = 'tan')\n",
    "plt.plot(x, pLagr(xi, fi, x), label = 'Lagrange')\n",
    "plt.plot(x, pNewt(xi, aiKoeff(xi, fi), x), label = 'Newton')\n",
    "plt.legend(loc = 'best')\n",
    "plt.tight_layout()"
   ]
  },
  {
   "cell_type": "markdown",
   "metadata": {},
   "source": [
    "In den Bereichen mit geringer Steigung des Tangens stimmt die Interpolation mit dem Tang\n",
    "In der Lagrange-Basis sind die Basispolynome schwerer auszurechnen und die Koeffizienten leichter. In der Newton-Basis sind die Basispolynome leicher zu bestimmen und die Koeffizienten schwerer."
   ]
  }
 ],
 "metadata": {
  "kernelspec": {
   "display_name": "Python 3",
   "language": "python",
   "name": "python3"
  },
  "language_info": {
   "codemirror_mode": {
    "name": "ipython",
    "version": 3
   },
   "file_extension": ".py",
   "mimetype": "text/x-python",
   "name": "python",
   "nbconvert_exporter": "python",
   "pygments_lexer": "ipython3",
   "version": "3.8.3"
  }
 },
 "nbformat": 4,
 "nbformat_minor": 5
}
