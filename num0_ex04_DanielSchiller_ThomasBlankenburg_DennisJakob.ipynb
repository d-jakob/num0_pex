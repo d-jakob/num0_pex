{
 "cells": [
  {
   "cell_type": "markdown",
   "id": "4d9598b8",
   "metadata": {},
   "source": [
    "| Übungszettel 4 | Einführung in die Numerik |\n",
    "|---|---|\n",
    "| Dozent      | Prof. Kanschat |\n",
    "| Tutoren     | S. Meggendorfer und J. Witte |\n",
    "| Abgabe      | bis 13.05.21 23.15 Uhr |\n",
    "| Studierende | *bitte Vor- und Nachnamen einfügen* |"
   ]
  },
  {
   "cell_type": "markdown",
   "id": "c18e1df0",
   "metadata": {},
   "source": [
    "\n",
    "---\n",
    "\n",
    "### Aufgabe 1: Lagrange Interpolation\n",
    "\n",
    "Seien Stützstellen `xi`, d.h. $x_0,\\ldots,x_n$, gegeben.\n",
    "\n",
    "1. Definieren Sie Funktionen `L(k, xi, x)` und `N(k, xi, x)`, die jeweils das $k$-te Lagrange-Basispolynom\n",
    "\n",
    "$$L_k(x) = \\prod_{j=0;j \\neq k}^{n} \\frac{x-x_j}{x_k-x_j}$$\n",
    "\n",
    "bzw. $k$-te Newton-Basispolynom\n",
    "\n",
    "$$N_k(x) = \\prod_{j=0}^{k-1} (x-x_j)$$\n",
    "\n",
    "an der Stelle `x` auswerten.\n",
    "\n",
    "2. Lösen Sie die Interpolationsaufgabe zu diesen Stützstellen zur Funktion $f(x)=\\tan(x)$ mit Funktionswerten `fi`, d.h. $f(x_0),\\ldots,f(x_n)$,\n",
    "    * indem Sie eine Auswertungsfunktion `pLagr(xi,fi,x)` bzgl. der Lagrange-Basis definieren.\n",
    "\n",
    "    * indem Sie eine Auswertungsfunktion `pNewt(xi,ai,x)` bzgl. der Newton-Basis definieren. Berechnen Sie dazu rekursiv die Koeffizienten `ai`, d.h. $[x_0]f,[x_0,x_1]f,\\ldots,[x_0,\\ldots,x_n]f$, als dividierte Differenzen.\n",
    "\n",
    "3. Plotten Sie die Lösungspolynome der beiden Interpolationsmöglichkeiten und vergleichen Sie mit dem Tangens. Diskutieren Sie Vor- und Nachteile der Lagrange-Basis bzw. der Newton-Basis.\n",
    "\n",
    "4. **Bonus:** Verwenden Sie das Horner-Schema für `pNewt(xi,ai,x)`."
   ]
  },
  {
   "cell_type": "code",
   "execution_count": null,
   "id": "f5bb5071",
   "metadata": {},
   "outputs": [],
   "source": [
    "import numpy as np\n",
    "import matplotlib.pyplot as plt\n",
    "\n",
    "n = 10\n",
    "\n",
    "xi = np.linspace(-1.5,1.5,n)\n",
    "fi = np.tan(xi)"
   ]
  },
  {
   "cell_type": "markdown",
   "id": "7a82d0e7-9cba-4bfe-9b36-c13fbdf108a7",
   "metadata": {},
   "source": [
    "---"
   ]
  },
  {
   "cell_type": "code",
   "execution_count": null,
   "id": "665e389c",
   "metadata": {},
   "outputs": [],
   "source": [
    "def L(k,xi,x):\n",
    "    # bitte ergänzen\n",
    "\n",
    "def pLagr(xi,fi,x):\n",
    "    # bitte ergänzen"
   ]
  },
  {
   "cell_type": "code",
   "execution_count": null,
   "id": "5e5d07b9",
   "metadata": {},
   "outputs": [],
   "source": [
    "def N(k,xi,x):\n",
    "    # bitte ergänzen\n",
    "\n",
    "def pNewt(xi,ai,x):\n",
    "    # bitte ergänzen"
   ]
  }
 ],
 "metadata": {
  "kernelspec": {
   "display_name": "Python 3",
   "language": "python",
   "name": "python3"
  },
  "language_info": {
   "codemirror_mode": {
    "name": "ipython",
    "version": 3
   },
   "file_extension": ".py",
   "mimetype": "text/x-python",
   "name": "python",
   "nbconvert_exporter": "python",
   "pygments_lexer": "ipython3",
   "version": "3.6.9"
  }
 },
 "nbformat": 4,
 "nbformat_minor": 5
}
