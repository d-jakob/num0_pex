{
 "cells": [
  {
   "cell_type": "markdown",
   "metadata": {},
   "source": [
    "| Übungszettel 9 | Einführung in die Numerik |\n",
    "|---|---|\n",
    "| Dozent      | Prof. Kanschat |\n",
    "| Tutoren     | S. Meggendorfer und J. Witte |\n",
    "| Abgabe      | bis 24.06.21 23.15 Uhr |\n",
    "| Studierende | Daniel Schiller, Thomas Blankenburg, Dennis Jakob |"
   ]
  },
  {
   "cell_type": "markdown",
   "metadata": {},
   "source": [
    "---\n",
    "\n",
    "### Aufgabe 1: Newton-Verfahren\n",
    "\n",
    "- Implementieren Sie das Newton-Verfahren für eindimensionale Funktionen $f:\\mathbb{R}\\to\\mathbb{R}$, definiert durch die Iterationsvorschrift\n",
    "$$\n",
    "x_0\\in\\mathbb{R},\n",
    "\\qquad\n",
    "x_n = x_{n-1} - \\frac{f(x_{n-1})}{f'(x_{n-1})}.\n",
    "$$\n",
    "Nutzen Sie als Abbruch-Kriterium, wenn der Betrag des Residuums $\\left|f(x_n)\\right|$ kleiner als die vorgegebene Toleranz `TOL=1.e-8` wird. Zusätzlich soll das Programm abbrechen, falls eine vorgegebene maximale Anzahl von 100 Schritten erreicht wird. Lassen Sie sich in jedem Schritt das Residuum $|f(x_n)|$, sowie die Differenz $|x_n-x_{n-1}|$ ausgeben.\n",
    "\n",
    "- Wenden Sie das Newton-Verfahren auf die Funktion $f(x) = \\arctan(x)$ an. Wählen Sie hierzu nacheinander die Startwerte $x_0=1$, $x_0=2$, sowie $x_0=1.391745200270735$."
   ]
  },
  {
   "cell_type": "code",
   "execution_count": null,
   "metadata": {},
   "outputs": [],
   "source": [
    "import numpy as np\n",
    "\n",
    "# Bitte ergänzen"
   ]
  }
 ],
 "metadata": {
  "kernelspec": {
   "display_name": "Python 3",
   "language": "python",
   "name": "python3"
  },
  "language_info": {
   "codemirror_mode": {
    "name": "ipython",
    "version": 3
   },
   "file_extension": ".py",
   "mimetype": "text/x-python",
   "name": "python",
   "nbconvert_exporter": "python",
   "pygments_lexer": "ipython3",
   "version": "3.8.3"
  }
 },
 "nbformat": 4,
 "nbformat_minor": 5
}
