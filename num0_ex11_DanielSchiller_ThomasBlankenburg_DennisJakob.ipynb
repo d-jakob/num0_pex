{
 "cells": [
  {
   "cell_type": "markdown",
   "id": "5de83de4",
   "metadata": {},
   "source": [
    "| Übungszettel 11 | Einführung in die Numerik |\n",
    "|---|---|\n",
    "| Dozent      | Prof. Kanschat |\n",
    "| Tutoren     | S. Meggendorfer und J. Witte |\n",
    "| Abgabe      | bis 08.07.21 23.15 Uhr |\n",
    "| Studierende | *bitte Vor- und Nachnamen einfügen* |"
   ]
  },
  {
   "cell_type": "markdown",
   "id": "8f8dbf2d",
   "metadata": {},
   "source": [
    "### Aufgabe: LR-Zerlegung\n",
    "\n",
    "In dieser Aufgabe sollen Sie die LR-Zerlegung auf Hilbertmatrizen anwenden. Eine Hilbertmatrix $H$ ist definiert durch\n",
    "$$\n",
    "H = \\begin{pmatrix} 1 & \\frac{1}{2} & \\frac{1}{3} & \\cdots & \\frac{1}{n} \\\\ \\frac{1}{2} & \\frac{1}{3} & \\frac{1}{4} & \\cdots & \\frac{1}{n+1} \\\\ \\frac{1}{3} & \\frac{1}{4} & \\frac{1}{5} & \\cdots & \\frac{1}{n+2} \\\\ \\vdots & \\vdots & \\vdots & \\ddots & \\vdots \\\\ \\frac{1}{n} & \\frac{1}{n+1} & \\frac{1}{n+2} & \\cdots & \\frac{1}{2n-1}\n",
    "\\end{pmatrix},\n",
    "$$\n",
    "und kann mithilfe der Funktion `scipy.linalg.hilbert(n)` berechnet werden.\n",
    "\n",
    "a) Programmieren Sie eine Funktion `solve_lr(...)`, die mithilfe der LR-Zerlegung lineare Gleichungssysteme der Form $Ax=b$ löst. Nutzen Sie hierfür die Funktionen `scipy.linalg.lu_factor` und `scipy.linalg.lu_solve`.\n",
    "\n",
    "b) Implementieren Sie eine von $n$ abhängende Funktion, die zu vorgegebenem $x^*=(1,\\ldots,1)^T$ der Länge $n$ die rechte Seite $b=Hx^*$ berechnet, anschließend mit der oben programmierten Funktion `solve_lr(...)` das Gleichungssystem $Hx=b$ löst und schließlich den Fehler $\\|x-x^*\\|$, sowie das Residuum $\\|Hx-b\\|$ in der 1-norm, der euklidischen Norm, sowie der Maximumsnorm zurück gibt. Für die Matrix-Vektor-Multiplikation können Sie `@` nutzen.\n",
    "\n",
    "c) Berechnen Sie nun für $n=1,\\ldots,N$ die Fehler und Residuen und plotten Sie die Ergebnisse jeweils für $N\\in\\{20,100,200\\}$.\n",
    "\n",
    "Bonus 1: Vergleichen Sie Ihre Ergebnisse mit der numpy internen solve-Funktion, indem Sie `numpy.linalg.solve` anstatt Ihrer selbst geschriebenen Funktion `solve_lr` verwenden.\n",
    "\n",
    "Bonus 2: Vergleichen Sie Ihre Ergebnisse zusätzlich mit dem Fall, wenn Sie die Inverse berechnen, um das Gleichungssystem zu lösen.\n"
   ]
  },
  {
   "cell_type": "code",
   "execution_count": null,
   "id": "f55f318c",
   "metadata": {},
   "outputs": [],
   "source": [
    "import numpy as np\n",
    "import scipy.linalg as la\n",
    "import matplotlib.pyplot as plt\n",
    "\n",
    "# Bitte ergänzen"
   ]
  }
 ],
 "metadata": {
  "kernelspec": {
   "display_name": "Python 3",
   "language": "python",
   "name": "python3"
  },
  "language_info": {
   "codemirror_mode": {
    "name": "ipython",
    "version": 3
   },
   "file_extension": ".py",
   "mimetype": "text/x-python",
   "name": "python",
   "nbconvert_exporter": "python",
   "pygments_lexer": "ipython3",
   "version": "3.7.3"
  }
 },
 "nbformat": 4,
 "nbformat_minor": 5
}
